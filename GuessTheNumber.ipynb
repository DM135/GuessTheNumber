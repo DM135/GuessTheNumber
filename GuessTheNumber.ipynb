{
 "cells": [
  {
   "cell_type": "code",
   "execution_count": null,
   "metadata": {},
   "outputs": [],
   "source": [
    "def readUserInput():\n",
    "    correctInput = False\n",
    "    while not correctInput:\n",
    "            userIn = input(\"Please choose a number between 1 and 25! \")\n",
    "            try:\n",
    "                userIn = int (userIn)\n",
    "            except ValueError:\n",
    "                print(\"Please choose a corect number!\")\n",
    "                correctInput = False\n",
    "            else:\n",
    "                if(userIn >= 1 and userIn <= 25):\n",
    "                    correctInput = True\n",
    "                else:\n",
    "                    print(\"Please choose a number between 1 and 25!\")\n",
    "    return userIn"
   ]
  },
  {
   "cell_type": "code",
   "execution_count": null,
   "metadata": {},
   "outputs": [],
   "source": [
    "from random import randint\n",
    "\n",
    "correctInput = False\n",
    "while not correctInput:\n",
    "    noG = input(\"How many times do you want to play? \")\n",
    "    try:\n",
    "        noG = int (noG)\n",
    "    except ValueError:\n",
    "        print(\"Please choose a corect number!\")\n",
    "        correctInput = False\n",
    "    else:\n",
    "        correctInput = True\n",
    "        \n",
    "\n",
    "for games in range(0, noG):\n",
    "    print(\"\\n\\n---Start of game \" + str(games+1) + \"---\")\n",
    "    secretNum = randint(1, 25)\n",
    "    guessed = False\n",
    "    tries = 0\n",
    "    while not guessed:\n",
    "        userIn = readUserInput()\n",
    "        tries+=1\n",
    "        if(userIn == secretNum):\n",
    "            print(\"Correct! It took only \" + str(tries) + \" tries!\")\n",
    "            print(\"---End of game \" + str(games+1) + \"---\")\n",
    "            break;\n",
    "        if(userIn < secretNum):\n",
    "            print(\"Number is too low!\")\n",
    "        if(userIn > secretNum):\n",
    "            print(\"Number too high!\")"
   ]
  }
 ],
 "metadata": {
  "kernelspec": {
   "display_name": "Python 3",
   "language": "python",
   "name": "python3"
  },
  "language_info": {
   "codemirror_mode": {
    "name": "ipython",
    "version": 3
   },
   "file_extension": ".py",
   "mimetype": "text/x-python",
   "name": "python",
   "nbconvert_exporter": "python",
   "pygments_lexer": "ipython3",
   "version": "3.7.4"
  }
 },
 "nbformat": 4,
 "nbformat_minor": 2
}
